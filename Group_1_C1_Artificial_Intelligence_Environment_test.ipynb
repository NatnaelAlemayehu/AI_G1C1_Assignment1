{
 "cells": [
  {
   "cell_type": "markdown",
   "metadata": {
    "id": "vgBCH65rULQM"
   },
   "source": [
    "**Group 1 Cohort 1 Artificial Intelligence Assignment 1 (Testing the installed environment with a dataset)**\n",
    "\n",
    "\n",
    "**Group Members**\n",
    "\n",
    "\n",
    "\n",
    "*   Neba Roland Ngwa\n",
    "*   Christopher Cofie Kuzagbe\n",
    "*   Natneal Alemayehu\n",
    "*   Okoye-Nobert Chukwuebuka\n",
    "\n",
    "This notebook is going to contain code for testing the different libraries installed to check if the environment works properly using a simple\n",
    " dataset downloaded from kaggle\n",
    "\n",
    "\n",
    "\n",
    "\n",
    "\n",
    "\n",
    "\n",
    "\n"
   ]
  },
  {
   "cell_type": "markdown",
   "metadata": {
    "id": "UUg3epqj5WuR"
   },
   "source": [
    "The link to the documentation (written in latex) on how to setup the environment can be found here \n",
    "\n",
    "https://drive.google.com/file/d/1MAVgJfu9TH0L2zoDUQUB6ductsTn8a7a/view?usp=sharing"
   ]
  },
  {
   "cell_type": "markdown",
   "metadata": {
    "id": "XsGbNYJ85I9d"
   },
   "source": [
    "The link to a video showing the the setup/installation of the environment for machine learning along with a short demo on the testing of the environment can be found here\n",
    "\n",
    "https://www.youtube.com/watch?v=wS3eXR678KY&feature=youtu.be"
   ]
  },
  {
   "cell_type": "code",
   "execution_count": 1,
   "metadata": {
    "id": "_inXKYRyULQT"
   },
   "outputs": [],
   "source": [
    "#Importing all the different libraries that will be tested\n",
    "import pandas as pd\n",
    "import numpy as np\n",
    "import matplotlib.pyplot as plt\n",
    "import seaborn as sns\n",
    "from scipy import misc\n",
    "from scipy import linalg\n",
    "%matplotlib inline\n"
   ]
  },
  {
   "cell_type": "code",
   "execution_count": 2,
   "metadata": {
    "id": "akbYlCOjULQU"
   },
   "outputs": [],
   "source": [
    "#Reading dataset\n",
    "df = pd.read_csv('https://raw.githubusercontent.com/Kuzagbe/AI-Group-Assignment/main/Ghana_Covid19_DailyActive.csv')"
   ]
  },
  {
   "cell_type": "code",
   "execution_count": null,
   "metadata": {
    "colab": {
     "base_uri": "https://localhost:8080/"
    },
    "id": "ynezShJcdh-4",
    "outputId": "4dd705d2-09cd-4791-dfd0-e1f128c448a8"
   },
   "outputs": [
    {
     "data": {
      "text/plain": [
       "pandas.core.frame.DataFrame"
      ]
     },
     "execution_count": 9,
     "metadata": {
      "tags": []
     },
     "output_type": "execute_result"
    }
   ],
   "source": [
    "#Data frame type defined by the pandas module\n",
    "type(df)"
   ]
  },
  {
   "cell_type": "code",
   "execution_count": null,
   "metadata": {
    "colab": {
     "base_uri": "https://localhost:8080/"
    },
    "id": "R0ObL0AfdIex",
    "outputId": "5820723b-111c-4608-91a1-91e3e33de7eb"
   },
   "outputs": [
    {
     "name": "stdout",
     "output_type": "stream",
     "text": [
      "<class 'pandas.core.frame.DataFrame'>\n",
      "RangeIndex: 233 entries, 0 to 232\n",
      "Data columns (total 8 columns):\n",
      " #   Column                 Non-Null Count  Dtype \n",
      "---  ------                 --------------  ----- \n",
      " 0   confirmed              233 non-null    int64 \n",
      " 1   recovered              233 non-null    int64 \n",
      " 2   death                  233 non-null    int64 \n",
      " 3   date                   233 non-null    object\n",
      " 4   cumulative_confirmed   233 non-null    int64 \n",
      " 5   cumulative_recovered   233 non-null    int64 \n",
      " 6   cumulative_death       233 non-null    int64 \n",
      " 7   active_cases           233 non-null    int64 \n",
      "dtypes: int64(7), object(1)\n",
      "memory usage: 14.7+ KB\n"
     ]
    }
   ],
   "source": [
    "#Printing information about the dataset using pandas\n",
    "df.info()"
   ]
  },
  {
   "cell_type": "code",
   "execution_count": null,
   "metadata": {
    "colab": {
     "base_uri": "https://localhost:8080/"
    },
    "id": "w0tf8Hw_f555",
    "outputId": "9669a2ac-b75e-4876-d2b8-6dd3658d86f8"
   },
   "outputs": [
    {
     "data": {
      "text/plain": [
       "221.74678111587983"
      ]
     },
     "execution_count": 10,
     "metadata": {
      "tags": []
     },
     "output_type": "execute_result"
    }
   ],
   "source": [
    "df[\"confirmed\"].mean() #the average confirmed cases on the GhanaCovid dataset(Pandas)"
   ]
  },
  {
   "cell_type": "code",
   "execution_count": null,
   "metadata": {
    "colab": {
     "base_uri": "https://localhost:8080/"
    },
    "id": "Mcf8UcJ9gCvP",
    "outputId": "9fb3d7e9-5d53-4d2c-b746-63332d557958"
   },
   "outputs": [
    {
     "data": {
      "text/plain": [
       "1.386266094420601"
      ]
     },
     "execution_count": 11,
     "metadata": {
      "tags": []
     },
     "output_type": "execute_result"
    }
   ],
   "source": [
    "df[\"death\"].mean()    #the average death cases on the GhanaCovid dataset(Pandas)"
   ]
  },
  {
   "cell_type": "code",
   "execution_count": null,
   "metadata": {
    "colab": {
     "base_uri": "https://localhost:8080/"
    },
    "id": "I1HJkxEkgILS",
    "outputId": "0ef81241-d10e-4840-8eb5-ed815af66b9a"
   },
   "outputs": [
    {
     "data": {
      "text/plain": [
       "2244.343347639485"
      ]
     },
     "execution_count": 12,
     "metadata": {
      "tags": []
     },
     "output_type": "execute_result"
    }
   ],
   "source": [
    "df[\"active_cases\"].mean()  #the average active cases on the GhanaCovid dataset(Pandas)"
   ]
  },
  {
   "cell_type": "code",
   "execution_count": null,
   "metadata": {
    "colab": {
     "base_uri": "https://localhost:8080/"
    },
    "id": "F8w4G1pZg1Mv",
    "outputId": "74a47583-6e53-4284-b742-cb659527624b"
   },
   "outputs": [
    {
     "data": {
      "text/plain": [
       "active_cases    1384.0\n",
       "death              0.0\n",
       "dtype: float64"
      ]
     },
     "execution_count": 13,
     "metadata": {
      "tags": []
     },
     "output_type": "execute_result"
    }
   ],
   "source": [
    "df[[\"active_cases\", \"death\"]].median()  #the median active cases to deaths in the GhanaCovid dataset(Pandas)"
   ]
  },
  {
   "cell_type": "code",
   "execution_count": null,
   "metadata": {
    "colab": {
     "base_uri": "https://localhost:8080/"
    },
    "id": "3ZpmuAQ2g9tv",
    "outputId": "476b0df5-6970-4bfc-8a3c-20d7c6979946"
   },
   "outputs": [
    {
     "data": {
      "text/plain": [
       "active_cases    1384.0\n",
       "confirmed        131.0\n",
       "dtype: float64"
      ]
     },
     "execution_count": 14,
     "metadata": {
      "tags": []
     },
     "output_type": "execute_result"
    }
   ],
   "source": [
    "df[[\"active_cases\", \"confirmed\"]].median()   #the median active cases to confirmed cases in the GhanaCovid dataset(Pandas)"
   ]
  },
  {
   "cell_type": "code",
   "execution_count": null,
   "metadata": {
    "colab": {
     "base_uri": "https://localhost:8080/"
    },
    "id": "GIqkQuylh09K",
    "outputId": "6ccff2ff-eade-4ad4-ca77-407be01821b7"
   },
   "outputs": [
    {
     "data": {
      "text/plain": [
       "array([[0., 1., 0., 0., 0., 0., 0., 0.],\n",
       "       [0., 0., 1., 0., 0., 0., 0., 0.],\n",
       "       [0., 0., 0., 1., 0., 0., 0., 0.],\n",
       "       [0., 0., 0., 0., 1., 0., 0., 0.],\n",
       "       [0., 0., 0., 0., 0., 1., 0., 0.],\n",
       "       [0., 0., 0., 0., 0., 0., 1., 0.],\n",
       "       [0., 0., 0., 0., 0., 0., 0., 1.],\n",
       "       [0., 0., 0., 0., 0., 0., 0., 0.]])"
      ]
     },
     "execution_count": 15,
     "metadata": {
      "tags": []
     },
     "output_type": "execute_result"
    }
   ],
   "source": [
    "# np.eye() to create a 2d array with 1's across a specified diagonal (numpy)\n",
    "np.eye(N = 8,  # Number of rows\n",
    "       M = 8,  # Number of columns\n",
    "       k = 1)  # Index of the diagonal (main diagonal (0) is default)"
   ]
  },
  {
   "cell_type": "code",
   "execution_count": null,
   "metadata": {
    "colab": {
     "base_uri": "https://localhost:8080/"
    },
    "id": "vJCnf1X8iCdD",
    "outputId": "c3cd50f3-ec3c-4b5e-98e4-4b33d7ffa752"
   },
   "outputs": [
    {
     "data": {
      "text/plain": [
       "(233, 8)"
      ]
     },
     "execution_count": 16,
     "metadata": {
      "tags": []
     },
     "output_type": "execute_result"
    }
   ],
   "source": [
    "#returns the row and column count of a dataset in pandas\n",
    "df.shape"
   ]
  },
  {
   "cell_type": "code",
   "execution_count": 3,
   "metadata": {
    "colab": {
     "base_uri": "https://localhost:8080/"
    },
    "id": "hbjnr7Erpxg1",
    "outputId": "c17a2b3f-ee86-4648-d681-96b0658563f0"
   },
   "outputs": [
    {
     "data": {
      "text/plain": [
       "array([[9, 7, 3],\n",
       "       [8, 5, 0],\n",
       "       [6, 6, 8]])"
      ]
     },
     "execution_count": 3,
     "metadata": {
      "tags": []
     },
     "output_type": "execute_result"
    }
   ],
   "source": [
    "x = np.array([[9,7,3],[8,5,0],[6,6,8]])  #numpy\n",
    "x"
   ]
  },
  {
   "cell_type": "code",
   "execution_count": 4,
   "metadata": {
    "colab": {
     "base_uri": "https://localhost:8080/"
    },
    "id": "3Liya_typ37h",
    "outputId": "c13052d5-d8cd-4efa-86b9-029be04b6066"
   },
   "outputs": [
    {
     "data": {
      "text/plain": [
       "array([[-1.17647059,  1.11764706,  0.44117647],\n",
       "       [ 1.88235294, -1.58823529, -0.70588235],\n",
       "       [-0.52941176,  0.35294118,  0.32352941]])"
      ]
     },
     "execution_count": 4,
     "metadata": {
      "tags": []
     },
     "output_type": "execute_result"
    }
   ],
   "source": [
    "#finding the inverse using scipy\n",
    "linalg.inv(x)"
   ]
  },
  {
   "cell_type": "code",
   "execution_count": 5,
   "metadata": {
    "colab": {
     "base_uri": "https://localhost:8080/"
    },
    "id": "tjczsXr3qFxu",
    "outputId": "568ecbbe-bd2b-42f4-8d35-6f0c3731b55b"
   },
   "outputs": [
    {
     "data": {
      "text/plain": [
       "array([[ 1.00000000e+00, -3.33066907e-15, -1.33226763e-15],\n",
       "       [ 2.66453526e-15,  1.00000000e+00, -5.55111512e-16],\n",
       "       [ 2.66453526e-15, -8.88178420e-16,  1.00000000e+00]])"
      ]
     },
     "execution_count": 5,
     "metadata": {
      "tags": []
     },
     "output_type": "execute_result"
    }
   ],
   "source": [
    "x.dot(linalg.inv(x)) #this is to double check if it right"
   ]
  },
  {
   "cell_type": "code",
   "execution_count": 6,
   "metadata": {
    "colab": {
     "base_uri": "https://localhost:8080/"
    },
    "id": "WobcCw1DqNh2",
    "outputId": "75686143-1eed-476f-8611-eec7e8fbc0f2"
   },
   "outputs": [
    {
     "data": {
      "text/plain": [
       "-33.99999999999994"
      ]
     },
     "execution_count": 6,
     "metadata": {
      "tags": []
     },
     "output_type": "execute_result"
    }
   ],
   "source": [
    "#finding determinnant\n",
    "linalg.det(x)"
   ]
  },
  {
   "cell_type": "code",
   "execution_count": null,
   "metadata": {
    "id": "NovN7PCLULQU",
    "outputId": "99e8d031-407e-47c0-f90b-d43df38ee85f"
   },
   "outputs": [
    {
     "data": {
      "text/html": [
       "<div>\n",
       "<style scoped>\n",
       "    .dataframe tbody tr th:only-of-type {\n",
       "        vertical-align: middle;\n",
       "    }\n",
       "\n",
       "    .dataframe tbody tr th {\n",
       "        vertical-align: top;\n",
       "    }\n",
       "\n",
       "    .dataframe thead th {\n",
       "        text-align: right;\n",
       "    }\n",
       "</style>\n",
       "<table border=\"1\" class=\"dataframe\">\n",
       "  <thead>\n",
       "    <tr style=\"text-align: right;\">\n",
       "      <th></th>\n",
       "      <th>confirmed</th>\n",
       "      <th>recovered</th>\n",
       "      <th>death</th>\n",
       "      <th>date</th>\n",
       "      <th>cumulative_confirmed</th>\n",
       "      <th>cumulative_recovered</th>\n",
       "      <th>cumulative_death</th>\n",
       "      <th>active_cases</th>\n",
       "    </tr>\n",
       "  </thead>\n",
       "  <tbody>\n",
       "    <tr>\n",
       "      <th>0</th>\n",
       "      <td>2</td>\n",
       "      <td>0</td>\n",
       "      <td>0</td>\n",
       "      <td>03/12/2020</td>\n",
       "      <td>2</td>\n",
       "      <td>0</td>\n",
       "      <td>0</td>\n",
       "      <td>2</td>\n",
       "    </tr>\n",
       "    <tr>\n",
       "      <th>1</th>\n",
       "      <td>2</td>\n",
       "      <td>0</td>\n",
       "      <td>0</td>\n",
       "      <td>03/13/2020</td>\n",
       "      <td>4</td>\n",
       "      <td>0</td>\n",
       "      <td>0</td>\n",
       "      <td>4</td>\n",
       "    </tr>\n",
       "    <tr>\n",
       "      <th>2</th>\n",
       "      <td>2</td>\n",
       "      <td>0</td>\n",
       "      <td>0</td>\n",
       "      <td>03/14/2020</td>\n",
       "      <td>6</td>\n",
       "      <td>0</td>\n",
       "      <td>0</td>\n",
       "      <td>6</td>\n",
       "    </tr>\n",
       "    <tr>\n",
       "      <th>3</th>\n",
       "      <td>1</td>\n",
       "      <td>0</td>\n",
       "      <td>0</td>\n",
       "      <td>03/17/2020</td>\n",
       "      <td>7</td>\n",
       "      <td>0</td>\n",
       "      <td>0</td>\n",
       "      <td>7</td>\n",
       "    </tr>\n",
       "    <tr>\n",
       "      <th>4</th>\n",
       "      <td>2</td>\n",
       "      <td>0</td>\n",
       "      <td>0</td>\n",
       "      <td>03/18/2020</td>\n",
       "      <td>9</td>\n",
       "      <td>0</td>\n",
       "      <td>0</td>\n",
       "      <td>9</td>\n",
       "    </tr>\n",
       "  </tbody>\n",
       "</table>\n",
       "</div>"
      ],
      "text/plain": [
       "   confirmed  recovered  death        date  cumulative_confirmed   \\\n",
       "0          2          0      0  03/12/2020                      2   \n",
       "1          2          0      0  03/13/2020                      4   \n",
       "2          2          0      0  03/14/2020                      6   \n",
       "3          1          0      0  03/17/2020                      7   \n",
       "4          2          0      0  03/18/2020                      9   \n",
       "\n",
       "   cumulative_recovered  cumulative_death  active_cases  \n",
       "0                     0                 0             2  \n",
       "1                     0                 0             4  \n",
       "2                     0                 0             6  \n",
       "3                     0                 0             7  \n",
       "4                     0                 0             9  "
      ]
     },
     "execution_count": 3,
     "metadata": {
      "tags": []
     },
     "output_type": "execute_result"
    }
   ],
   "source": [
    "#Printing the top elements in the dataset using pandas library\n",
    "df.head()"
   ]
  },
  {
   "cell_type": "code",
   "execution_count": null,
   "metadata": {
    "id": "U_m5hhedULQV",
    "outputId": "dc800aaf-a9ad-4af2-89d0-27c7cceb2564"
   },
   "outputs": [
    {
     "data": {
      "text/plain": [
       "Index(['confirmed', 'recovered', 'death', 'date', 'cumulative_confirmed ',\n",
       "       'cumulative_recovered', 'cumulative_death', 'active_cases'],\n",
       "      dtype='object')"
      ]
     },
     "execution_count": 4,
     "metadata": {
      "tags": []
     },
     "output_type": "execute_result"
    }
   ],
   "source": [
    "# Printing the different columns in the dataset\n",
    "df.columns"
   ]
  },
  {
   "cell_type": "code",
   "execution_count": null,
   "metadata": {
    "id": "CVKvmD1IULQW",
    "outputId": "4f907290-7f4c-4059-cb7a-372d8567182d"
   },
   "outputs": [
    {
     "data": {
      "text/plain": [
       "confirmed                0\n",
       "recovered                0\n",
       "death                    0\n",
       "date                     0\n",
       "cumulative_confirmed     0\n",
       "cumulative_recovered     0\n",
       "cumulative_death         0\n",
       "active_cases             0\n",
       "dtype: int64"
      ]
     },
     "execution_count": 5,
     "metadata": {
      "tags": []
     },
     "output_type": "execute_result"
    }
   ],
   "source": [
    "# Looking at features in the dataset that have null values\n",
    "df.isnull().sum()"
   ]
  },
  {
   "cell_type": "code",
   "execution_count": null,
   "metadata": {
    "id": "CYQZNAwkULQX"
   },
   "outputs": [],
   "source": []
  },
  {
   "cell_type": "code",
   "execution_count": null,
   "metadata": {
    "id": "cjVQW6VvULQY",
    "outputId": "c3cce6d4-0355-416d-dd6c-996cc65506f2"
   },
   "outputs": [
    {
     "data": {
      "text/plain": [
       "Series([], dtype: int64)"
      ]
     },
     "execution_count": 6,
     "metadata": {
      "tags": []
     },
     "output_type": "execute_result"
    }
   ],
   "source": [
    "#Displaying all the datasets with null values only\n",
    "null_col = df.isnull().sum()\n",
    "null_col[null_col > 0]"
   ]
  },
  {
   "cell_type": "code",
   "execution_count": null,
   "metadata": {
    "id": "1XJJFZ3xULQY"
   },
   "outputs": [],
   "source": []
  },
  {
   "cell_type": "code",
   "execution_count": null,
   "metadata": {
    "id": "zwf9u3DBULQZ"
   },
   "outputs": [],
   "source": []
  },
  {
   "cell_type": "code",
   "execution_count": null,
   "metadata": {
    "id": "Xi5Ku9QKULQZ",
    "outputId": "d3bd7136-1c37-4ae9-c4ae-649897969d6f"
   },
   "outputs": [
    {
     "data": {
      "text/plain": [
       "Index(['confirmed', 'recovered', 'death', 'date', 'cumulative_confirmed ',\n",
       "       'cumulative_recovered', 'cumulative_death', 'active_cases'],\n",
       "      dtype='object')"
      ]
     },
     "execution_count": 7,
     "metadata": {
      "tags": []
     },
     "output_type": "execute_result"
    }
   ],
   "source": [
    "df.columns"
   ]
  },
  {
   "cell_type": "code",
   "execution_count": null,
   "metadata": {
    "id": "5Voyndq5ULQa",
    "outputId": "1e5d8a7f-a2bd-4bf3-d659-7eea39cba6e5"
   },
   "outputs": [
    {
     "data": {
      "text/plain": [
       "array([[<AxesSubplot:title={'center':'confirmed'}>,\n",
       "        <AxesSubplot:title={'center':'recovered'}>,\n",
       "        <AxesSubplot:title={'center':'death'}>],\n",
       "       [<AxesSubplot:title={'center':'cumulative_confirmed '}>,\n",
       "        <AxesSubplot:title={'center':'cumulative_recovered'}>,\n",
       "        <AxesSubplot:title={'center':'cumulative_death'}>],\n",
       "       [<AxesSubplot:title={'center':'active_cases'}>, <AxesSubplot:>,\n",
       "        <AxesSubplot:>]], dtype=object)"
      ]
     },
     "execution_count": 8,
     "metadata": {
      "tags": []
     },
     "output_type": "execute_result"
    },
    {
     "data": {
      "image/png": "[encoded data removed]",
      "text/plain": [
       "<Figure size 1440x1440 with 9 Axes>"
      ]
     },
     "metadata": {
      "needs_background": "light",
      "tags": []
     },
     "output_type": "display_data"
    }
   ],
   "source": [
    "df.hist(bins= 30, figsize=(20,20), color='blue')"
   ]
  },
  {
   "cell_type": "code",
   "execution_count": null,
   "metadata": {
    "id": "qMRMgdG7ULQa",
    "outputId": "ab1ad6d3-df10-4715-c072-ae424165811e"
   },
   "outputs": [
    {
     "name": "stdout",
     "output_type": "stream",
     "text": [
      "                 date\n",
      "0 2020-01-12 01:00:00\n",
      "1 2020-01-19 01:00:00\n",
      "2 2020-01-26 01:00:00\n",
      "3 2020-02-02 01:00:00\n",
      "4 2020-02-09 01:00:00\n",
      "5 2020-02-16 01:00:00\n"
     ]
    }
   ],
   "source": [
    "df1 = pd.DataFrame()\n",
    "\n",
    "df1['date'] = pd.date_range('1/6/2020 01:00:00', periods=6, freq='W')\n",
    "print(df1)"
   ]
  },
  {
   "cell_type": "code",
   "execution_count": null,
   "metadata": {
    "id": "9JGuGpQtULQb"
   },
   "outputs": [],
   "source": [
    "df['date'] = pd.to_datetime(df.date)"
   ]
  },
  {
   "cell_type": "code",
   "execution_count": null,
   "metadata": {
    "id": "X2pXHT_GULQb"
   },
   "outputs": [],
   "source": [
    "df['year'] = df['date'].dt.year\n",
    "df['month'] = df['date'].dt.month\n",
    "df['day'] = df['date'].dt.day"
   ]
  },
  {
   "cell_type": "code",
   "execution_count": null,
   "metadata": {
    "id": "8bSdTGMmULQc",
    "outputId": "bca99c18-10a1-4dca-8103-7edbd3a1d174"
   },
   "outputs": [
    {
     "data": {
      "text/html": [
       "<div>\n",
       "<style scoped>\n",
       "    .dataframe tbody tr th:only-of-type {\n",
       "        vertical-align: middle;\n",
       "    }\n",
       "\n",
       "    .dataframe tbody tr th {\n",
       "        vertical-align: top;\n",
       "    }\n",
       "\n",
       "    .dataframe thead th {\n",
       "        text-align: right;\n",
       "    }\n",
       "</style>\n",
       "<table border=\"1\" class=\"dataframe\">\n",
       "  <thead>\n",
       "    <tr style=\"text-align: right;\">\n",
       "      <th></th>\n",
       "      <th>confirmed</th>\n",
       "      <th>recovered</th>\n",
       "      <th>death</th>\n",
       "      <th>date</th>\n",
       "      <th>cumulative_confirmed</th>\n",
       "      <th>cumulative_recovered</th>\n",
       "      <th>cumulative_death</th>\n",
       "      <th>active_cases</th>\n",
       "      <th>year</th>\n",
       "      <th>month</th>\n",
       "      <th>day</th>\n",
       "    </tr>\n",
       "  </thead>\n",
       "  <tbody>\n",
       "    <tr>\n",
       "      <th>0</th>\n",
       "      <td>2</td>\n",
       "      <td>0</td>\n",
       "      <td>0</td>\n",
       "      <td>2020-03-12</td>\n",
       "      <td>2</td>\n",
       "      <td>0</td>\n",
       "      <td>0</td>\n",
       "      <td>2</td>\n",
       "      <td>2020</td>\n",
       "      <td>3</td>\n",
       "      <td>12</td>\n",
       "    </tr>\n",
       "    <tr>\n",
       "      <th>1</th>\n",
       "      <td>2</td>\n",
       "      <td>0</td>\n",
       "      <td>0</td>\n",
       "      <td>2020-03-13</td>\n",
       "      <td>4</td>\n",
       "      <td>0</td>\n",
       "      <td>0</td>\n",
       "      <td>4</td>\n",
       "      <td>2020</td>\n",
       "      <td>3</td>\n",
       "      <td>13</td>\n",
       "    </tr>\n",
       "    <tr>\n",
       "      <th>2</th>\n",
       "      <td>2</td>\n",
       "      <td>0</td>\n",
       "      <td>0</td>\n",
       "      <td>2020-03-14</td>\n",
       "      <td>6</td>\n",
       "      <td>0</td>\n",
       "      <td>0</td>\n",
       "      <td>6</td>\n",
       "      <td>2020</td>\n",
       "      <td>3</td>\n",
       "      <td>14</td>\n",
       "    </tr>\n",
       "    <tr>\n",
       "      <th>3</th>\n",
       "      <td>1</td>\n",
       "      <td>0</td>\n",
       "      <td>0</td>\n",
       "      <td>2020-03-17</td>\n",
       "      <td>7</td>\n",
       "      <td>0</td>\n",
       "      <td>0</td>\n",
       "      <td>7</td>\n",
       "      <td>2020</td>\n",
       "      <td>3</td>\n",
       "      <td>17</td>\n",
       "    </tr>\n",
       "    <tr>\n",
       "      <th>4</th>\n",
       "      <td>2</td>\n",
       "      <td>0</td>\n",
       "      <td>0</td>\n",
       "      <td>2020-03-18</td>\n",
       "      <td>9</td>\n",
       "      <td>0</td>\n",
       "      <td>0</td>\n",
       "      <td>9</td>\n",
       "      <td>2020</td>\n",
       "      <td>3</td>\n",
       "      <td>18</td>\n",
       "    </tr>\n",
       "  </tbody>\n",
       "</table>\n",
       "</div>"
      ],
      "text/plain": [
       "   confirmed  recovered  death       date  cumulative_confirmed   \\\n",
       "0          2          0      0 2020-03-12                      2   \n",
       "1          2          0      0 2020-03-13                      4   \n",
       "2          2          0      0 2020-03-14                      6   \n",
       "3          1          0      0 2020-03-17                      7   \n",
       "4          2          0      0 2020-03-18                      9   \n",
       "\n",
       "   cumulative_recovered  cumulative_death  active_cases  year  month  day  \n",
       "0                     0                 0             2  2020      3   12  \n",
       "1                     0                 0             4  2020      3   13  \n",
       "2                     0                 0             6  2020      3   14  \n",
       "3                     0                 0             7  2020      3   17  \n",
       "4                     0                 0             9  2020      3   18  "
      ]
     },
     "execution_count": 27,
     "metadata": {
      "tags": []
     },
     "output_type": "execute_result"
    }
   ],
   "source": [
    "df.head()"
   ]
  },
  {
   "cell_type": "code",
   "execution_count": null,
   "metadata": {
    "id": "uQMLs1EQULQc"
   },
   "outputs": [],
   "source": [
    "del df['date']"
   ]
  },
  {
   "cell_type": "code",
   "execution_count": null,
   "metadata": {
    "id": "l6n2gQhBULQc",
    "outputId": "6df2c496-3558-4315-cae9-7f6f2e55a102"
   },
   "outputs": [
    {
     "data": {
      "text/html": [
       "<div>\n",
       "<style scoped>\n",
       "    .dataframe tbody tr th:only-of-type {\n",
       "        vertical-align: middle;\n",
       "    }\n",
       "\n",
       "    .dataframe tbody tr th {\n",
       "        vertical-align: top;\n",
       "    }\n",
       "\n",
       "    .dataframe thead th {\n",
       "        text-align: right;\n",
       "    }\n",
       "</style>\n",
       "<table border=\"1\" class=\"dataframe\">\n",
       "  <thead>\n",
       "    <tr style=\"text-align: right;\">\n",
       "      <th></th>\n",
       "      <th>confirmed</th>\n",
       "      <th>recovered</th>\n",
       "      <th>death</th>\n",
       "      <th>cumulative_confirmed</th>\n",
       "      <th>cumulative_recovered</th>\n",
       "      <th>cumulative_death</th>\n",
       "      <th>active_cases</th>\n",
       "      <th>year</th>\n",
       "      <th>month</th>\n",
       "      <th>day</th>\n",
       "    </tr>\n",
       "  </thead>\n",
       "  <tbody>\n",
       "    <tr>\n",
       "      <th>0</th>\n",
       "      <td>2</td>\n",
       "      <td>0</td>\n",
       "      <td>0</td>\n",
       "      <td>2</td>\n",
       "      <td>0</td>\n",
       "      <td>0</td>\n",
       "      <td>2</td>\n",
       "      <td>2020</td>\n",
       "      <td>3</td>\n",
       "      <td>12</td>\n",
       "    </tr>\n",
       "    <tr>\n",
       "      <th>1</th>\n",
       "      <td>2</td>\n",
       "      <td>0</td>\n",
       "      <td>0</td>\n",
       "      <td>4</td>\n",
       "      <td>0</td>\n",
       "      <td>0</td>\n",
       "      <td>4</td>\n",
       "      <td>2020</td>\n",
       "      <td>3</td>\n",
       "      <td>13</td>\n",
       "    </tr>\n",
       "    <tr>\n",
       "      <th>2</th>\n",
       "      <td>2</td>\n",
       "      <td>0</td>\n",
       "      <td>0</td>\n",
       "      <td>6</td>\n",
       "      <td>0</td>\n",
       "      <td>0</td>\n",
       "      <td>6</td>\n",
       "      <td>2020</td>\n",
       "      <td>3</td>\n",
       "      <td>14</td>\n",
       "    </tr>\n",
       "    <tr>\n",
       "      <th>3</th>\n",
       "      <td>1</td>\n",
       "      <td>0</td>\n",
       "      <td>0</td>\n",
       "      <td>7</td>\n",
       "      <td>0</td>\n",
       "      <td>0</td>\n",
       "      <td>7</td>\n",
       "      <td>2020</td>\n",
       "      <td>3</td>\n",
       "      <td>17</td>\n",
       "    </tr>\n",
       "    <tr>\n",
       "      <th>4</th>\n",
       "      <td>2</td>\n",
       "      <td>0</td>\n",
       "      <td>0</td>\n",
       "      <td>9</td>\n",
       "      <td>0</td>\n",
       "      <td>0</td>\n",
       "      <td>9</td>\n",
       "      <td>2020</td>\n",
       "      <td>3</td>\n",
       "      <td>18</td>\n",
       "    </tr>\n",
       "  </tbody>\n",
       "</table>\n",
       "</div>"
      ],
      "text/plain": [
       "   confirmed  recovered  death  cumulative_confirmed   cumulative_recovered  \\\n",
       "0          2          0      0                      2                     0   \n",
       "1          2          0      0                      4                     0   \n",
       "2          2          0      0                      6                     0   \n",
       "3          1          0      0                      7                     0   \n",
       "4          2          0      0                      9                     0   \n",
       "\n",
       "   cumulative_death  active_cases  year  month  day  \n",
       "0                 0             2  2020      3   12  \n",
       "1                 0             4  2020      3   13  \n",
       "2                 0             6  2020      3   14  \n",
       "3                 0             7  2020      3   17  \n",
       "4                 0             9  2020      3   18  "
      ]
     },
     "execution_count": 29,
     "metadata": {
      "tags": []
     },
     "output_type": "execute_result"
    }
   ],
   "source": [
    "df.head()"
   ]
  },
  {
   "cell_type": "code",
   "execution_count": null,
   "metadata": {
    "id": "6f0SkWb0ULQd"
   },
   "outputs": [],
   "source": [
    "# Creating x and y values for our model\n",
    "x = df.drop('active_cases', axis=1)\n",
    "y = df['active_cases']"
   ]
  },
  {
   "cell_type": "code",
   "execution_count": null,
   "metadata": {
    "id": "iq9VJuZRULQd"
   },
   "outputs": [],
   "source": [
    "# Testing the numpy library by using it to transform our dataset into a matrix\n",
    "x = np.array(x)\n",
    "y = np.array(y)"
   ]
  },
  {
   "cell_type": "code",
   "execution_count": null,
   "metadata": {
    "id": "KoOAmb9PULQd"
   },
   "outputs": [],
   "source": [
    "# testing if the sklearn library actually works in our environment using the dataset \n",
    "\n",
    "\n",
    "from sklearn.model_selection import train_test_split\n",
    "\n",
    "# spliting the data in to test and train sets\n",
    "x_train, x_test, Y_train, Y_test = train_test_split(x, y, test_size=0.15)"
   ]
  },
  {
   "cell_type": "code",
   "execution_count": null,
   "metadata": {
    "id": "6tGAX7uGULQe",
    "outputId": "329f8b13-866a-4cad-ea6f-6ec5f3573f14"
   },
   "outputs": [
    {
     "data": {
      "text/plain": [
       "array([[  69,  118,    0, ..., 2020,    9,   21],\n",
       "       [  46,   75,    1, ..., 2020,    9,    8],\n",
       "       [  30,   52,    0, ..., 2020,   10,   23],\n",
       "       ...,\n",
       "       [   3,    0,    1, ..., 2020,    3,   22],\n",
       "       [ 108,  786,    4, ..., 2020,    5,   14],\n",
       "       [  75,   79,    2, ..., 2020,    9,    7]])"
      ]
     },
     "execution_count": 33,
     "metadata": {
      "tags": []
     },
     "output_type": "execute_result"
    }
   ],
   "source": [
    "# Displaying the values in the dataset as were splitted\n",
    "x_train"
   ]
  },
  {
   "cell_type": "code",
   "execution_count": null,
   "metadata": {
    "id": "mAWRsVDdULQe",
    "outputId": "96b0ddab-a4f6-4467-f9a8-257d78b55767"
   },
   "outputs": [
    {
     "data": {
      "text/plain": [
       "array([ 506,  806,  488, 3782, 3308,  187,  376, 3947,  775, 4487,  877,\n",
       "        344, 1267,  524,  529, 3716,  368,  832, 1712, 1139,  305,  398,\n",
       "       1152, 4071, 2770, 6217, 8585, 3526,  564, 3863,  382, 3681, 3671,\n",
       "        555, 5273, 1451, 3349, 3429,  134, 5193, 1832,  507, 3655, 5669,\n",
       "        947,  554, 3617, 1427, 3558, 3223,  298, 7215, 5658,    7, 3059,\n",
       "        437, 1949, 1656,    6, 2458, 7809,  499, 6486,  530,  831, 4245,\n",
       "       1135, 1857, 3252,  639,  382, 4941,  347,   11, 1146, 4361, 4270,\n",
       "         21, 6887, 3566, 4192,  533,  397, 1845,  125,  479,  988,  510,\n",
       "       5129,  494, 4467, 5871,  863, 1287,  785, 3976,  620, 1321,  145,\n",
       "       4292, 2007, 5087, 2029, 4608,    2, 1384,  904, 5093,   16, 3871,\n",
       "        535, 1473,  842, 1325,    9, 1424, 4340,  797, 1113,  568, 1063,\n",
       "        477,  934,    4,  973, 4706,  758, 4653, 1604,  545,  499,   16,\n",
       "       1847, 1467, 3780, 8114, 4857, 4504, 4683, 1354,  566, 1156,  554,\n",
       "        463,  801, 1541,  733, 3528,  940, 1307, 5161,  413,  301,  129,\n",
       "        153,  337, 3716,  348,  196, 3952,  279, 1469, 1922, 3095, 1664,\n",
       "       1939,  795,  856,  348, 3253,  206,  628, 4832, 1019, 2134,  726,\n",
       "        796, 3596, 5004, 4870, 3467, 3307, 4282, 1519,  589, 4712, 3513,\n",
       "        351,  448, 3376, 1723,  396,  819, 4766,  487,   18, 4150,  836])"
      ]
     },
     "execution_count": 34,
     "metadata": {
      "tags": []
     },
     "output_type": "execute_result"
    }
   ],
   "source": [
    "Y_train"
   ]
  },
  {
   "cell_type": "code",
   "execution_count": null,
   "metadata": {
    "id": "BBRiyT2gULQe"
   },
   "outputs": [],
   "source": [
    "#Importing the linear regression model which is going to be used to test the model\n",
    "from sklearn.linear_model import LinearRegression"
   ]
  },
  {
   "cell_type": "code",
   "execution_count": null,
   "metadata": {
    "id": "7VrjKAO0ULQf"
   },
   "outputs": [],
   "source": [
    "#Model is going to be used to predict the active cases that may occur on a certain day\n",
    "linreg = LinearRegression().fit(x_train,Y_train)"
   ]
  },
  {
   "cell_type": "code",
   "execution_count": null,
   "metadata": {
    "id": "vKx7wEuLULQf",
    "outputId": "6d3f8bb6-309c-43b5-b060-55a330049d29"
   },
   "outputs": [
    {
     "data": {
      "text/plain": [
       "1.0"
      ]
     },
     "execution_count": 37,
     "metadata": {
      "tags": []
     },
     "output_type": "execute_result"
    }
   ],
   "source": [
    "linreg.score(x_train,Y_train)"
   ]
  },
  {
   "cell_type": "code",
   "execution_count": null,
   "metadata": {
    "id": "UkKVSgAQULQg",
    "outputId": "0f23cfe9-9eda-4009-e04c-04fdee196675"
   },
   "outputs": [
    {
     "name": "stdout",
     "output_type": "stream",
     "text": [
      "[-7.59733480e-15  1.75415238e-14 -1.07755317e-13  1.00000000e+00\n",
      " -1.00000000e+00 -1.00000000e+00  9.54097912e-18  9.89625963e-13\n",
      "  4.84789821e-14]\n",
      "-4.902176442556083e-10\n"
     ]
    }
   ],
   "source": [
    "#getting the coefficient and intercept of the linear model\n",
    "print(linreg.coef_)\n",
    "print(linreg.intercept_)"
   ]
  },
  {
   "cell_type": "code",
   "execution_count": null,
   "metadata": {
    "id": "wIYDhFv7ULQg",
    "outputId": "889543e1-70a4-4311-af6a-fc52713ff6fd"
   },
   "outputs": [
    {
     "data": {
      "text/plain": [
       "array([4184., 5958., 6398., 8395., 1906.,   62.,  746.,  550., 2407.,\n",
       "       7652.,   47., 5378., 4835., 4611., 1205.,  503.,  197.,  466.,\n",
       "        470.,  303., 3840.,  492., 3910., 1839., 1018., 2270., 4878.,\n",
       "       3313.,  336., 7405., 7091., 3449., 2625., 3505., 4133.])"
      ]
     },
     "execution_count": 39,
     "metadata": {
      "tags": []
     },
     "output_type": "execute_result"
    }
   ],
   "source": [
    "#Trying to predict the values for the active cases using the created model\n",
    "linreg.predict(x_test)"
   ]
  },
  {
   "cell_type": "code",
   "execution_count": null,
   "metadata": {
    "id": "cI9Socq9ULQh",
    "outputId": "57fc4085-0c82-4cda-af28-8208fa45da19"
   },
   "outputs": [
    {
     "data": {
      "text/plain": [
       "1.0"
      ]
     },
     "execution_count": 41,
     "metadata": {
      "tags": []
     },
     "output_type": "execute_result"
    }
   ],
   "source": [
    "linreg.score(x_test,Y_test)"
   ]
  },
  {
   "cell_type": "code",
   "execution_count": null,
   "metadata": {
    "id": "bFpmehWFULQi"
   },
   "outputs": [],
   "source": [
    "#Testing our environment with the tensorflow library\n",
    "#importing the tensorflow library and using its keras model for artificial neural network computation\n",
    "import tensorflow as tf\n",
    "from tensorflow import keras\n",
    "from tensorflow.keras.layers import Dense, Activation, Dropout\n",
    "from tensorflow.keras.optimizers import Adam\n"
   ]
  },
  {
   "cell_type": "code",
   "execution_count": null,
   "metadata": {
    "id": "v5_rV0ctULQi",
    "outputId": "7a30fee3-5b2a-4e8a-e1c4-12866c61fbe1"
   },
   "outputs": [
    {
     "name": "stdout",
     "output_type": "stream",
     "text": [
      "Model: \"sequential_2\"\n",
      "_________________________________________________________________\n",
      "Layer (type)                 Output Shape              Param #   \n",
      "=================================================================\n",
      "dense_10 (Dense)             (None, 50)                500       \n",
      "_________________________________________________________________\n",
      "activation_8 (Activation)    (None, 50)                0         \n",
      "_________________________________________________________________\n",
      "dense_11 (Dense)             (None, 150)               7650      \n",
      "_________________________________________________________________\n",
      "activation_9 (Activation)    (None, 150)               0         \n",
      "_________________________________________________________________\n",
      "dropout_4 (Dropout)          (None, 150)               0         \n",
      "_________________________________________________________________\n",
      "dense_12 (Dense)             (None, 150)               22650     \n",
      "_________________________________________________________________\n",
      "activation_10 (Activation)   (None, 150)               0         \n",
      "_________________________________________________________________\n",
      "dropout_5 (Dropout)          (None, 150)               0         \n",
      "_________________________________________________________________\n",
      "dense_13 (Dense)             (None, 50)                7550      \n",
      "_________________________________________________________________\n",
      "activation_11 (Activation)   (None, 50)                0         \n",
      "_________________________________________________________________\n",
      "dense_14 (Dense)             (None, 1)                 51        \n",
      "=================================================================\n",
      "Total params: 38,401\n",
      "Trainable params: 38,401\n",
      "Non-trainable params: 0\n",
      "_________________________________________________________________\n"
     ]
    }
   ],
   "source": [
    "#Trying out an artificila neural network computation on the dataset. This computation below is mainly\n",
    "#based on a project I had done before so i just used the same idea on the dataset\n",
    "ANN_model = keras.Sequential()\n",
    "ANN_model.add(Dense(50, input_dim = 9))\n",
    "ANN_model.add(Activation('relu'))\n",
    "ANN_model.add(Dense(150))\n",
    "ANN_model.add(Activation('relu'))\n",
    "ANN_model.add(Dropout(0.5))\n",
    "ANN_model.add(Dense(150))\n",
    "ANN_model.add(Activation('relu'))\n",
    "ANN_model.add(Dropout(0.5))\n",
    "ANN_model.add(Dense(50))\n",
    "ANN_model.add(Activation('linear'))\n",
    "ANN_model.add(Dense(1))\n",
    "ANN_model.compile(loss = 'mse', optimizer = 'adam')\n",
    "ANN_model.summary()"
   ]
  },
  {
   "cell_type": "code",
   "execution_count": null,
   "metadata": {
    "id": "stfX7HG6ULQj"
   },
   "outputs": [],
   "source": [
    "ANN_model.compile(optimizer='Adam', loss='mean_squared_error')"
   ]
  },
  {
   "cell_type": "code",
   "execution_count": null,
   "metadata": {
    "id": "YTPyWeTKULQj",
    "outputId": "a5d33649-1772-4771-d728-6b493ac2f21c"
   },
   "outputs": [
    {
     "name": "stdout",
     "output_type": "stream",
     "text": [
      "Train on 158 samples, validate on 40 samples\n",
      "Epoch 1/100\n",
      "158/158 [==============================] - 0s 392us/sample - loss: 35060438.2025 - val_loss: 4709661.6250\n",
      "Epoch 2/100\n",
      "158/158 [==============================] - 0s 98us/sample - loss: 19392096.8608 - val_loss: 4470245.5000\n",
      "Epoch 3/100\n",
      "158/158 [==============================] - 0s 119us/sample - loss: 10835830.7975 - val_loss: 4721775.7500\n",
      "Epoch 4/100\n",
      "158/158 [==============================] - 0s 160us/sample - loss: 10198034.5443 - val_loss: 4560390.8750\n",
      "Epoch 5/100\n",
      "158/158 [==============================] - 0s 112us/sample - loss: 8149224.2722 - val_loss: 3930630.2500\n",
      "Epoch 6/100\n",
      "158/158 [==============================] - 0s 142us/sample - loss: 7230732.3038 - val_loss: 3626120.3750\n",
      "Epoch 7/100\n",
      "158/158 [==============================] - 0s 118us/sample - loss: 5961707.7152 - val_loss: 3326398.0000\n",
      "Epoch 8/100\n",
      "158/158 [==============================] - 0s 118us/sample - loss: 4990715.2310 - val_loss: 2492755.4375\n",
      "Epoch 9/100\n",
      "158/158 [==============================] - 0s 151us/sample - loss: 4370776.0095 - val_loss: 2649853.0000\n",
      "Epoch 10/100\n",
      "158/158 [==============================] - 0s 115us/sample - loss: 3404505.4620 - val_loss: 1324962.6875\n",
      "Epoch 11/100\n",
      "158/158 [==============================] - 0s 133us/sample - loss: 2459841.7278 - val_loss: 1831620.2500\n",
      "Epoch 12/100\n",
      "158/158 [==============================] - 0s 127us/sample - loss: 1879602.0506 - val_loss: 1232079.5312\n",
      "Epoch 13/100\n",
      "158/158 [==============================] - 0s 134us/sample - loss: 1702458.5585 - val_loss: 1320330.8125\n",
      "Epoch 14/100\n",
      "158/158 [==============================] - 0s 115us/sample - loss: 1821486.4035 - val_loss: 1189762.2812\n",
      "Epoch 15/100\n",
      "158/158 [==============================] - 0s 118us/sample - loss: 1604585.3924 - val_loss: 946846.7188\n",
      "Epoch 16/100\n",
      "158/158 [==============================] - 0s 129us/sample - loss: 1458268.3956 - val_loss: 963459.4062\n",
      "Epoch 17/100\n",
      "158/158 [==============================] - 0s 108us/sample - loss: 1372250.5372 - val_loss: 914081.8750\n",
      "Epoch 18/100\n",
      "158/158 [==============================] - 0s 133us/sample - loss: 1430536.8054 - val_loss: 768527.8438\n",
      "Epoch 19/100\n",
      "158/158 [==============================] - 0s 130us/sample - loss: 1025481.3434 - val_loss: 973184.7812\n",
      "Epoch 20/100\n",
      "158/158 [==============================] - 0s 119us/sample - loss: 1341806.4470 - val_loss: 598369.6562\n",
      "Epoch 21/100\n",
      "158/158 [==============================] - 0s 134us/sample - loss: 1096926.9889 - val_loss: 841699.6875\n",
      "Epoch 22/100\n",
      "158/158 [==============================] - 0s 126us/sample - loss: 1045874.4778 - val_loss: 453119.5938\n",
      "Epoch 23/100\n",
      "158/158 [==============================] - 0s 140us/sample - loss: 985856.0000 - val_loss: 1004993.1875\n",
      "Epoch 24/100\n",
      "158/158 [==============================] - 0s 126us/sample - loss: 1008123.9707 - val_loss: 469766.3594\n",
      "Epoch 25/100\n",
      "158/158 [==============================] - 0s 119us/sample - loss: 807861.3710 - val_loss: 711499.7188\n",
      "Epoch 26/100\n",
      "158/158 [==============================] - 0s 146us/sample - loss: 905090.6780 - val_loss: 355398.2656\n",
      "Epoch 27/100\n",
      "158/158 [==============================] - 0s 157us/sample - loss: 924480.5827 - val_loss: 569163.4062\n",
      "Epoch 28/100\n",
      "158/158 [==============================] - 0s 134us/sample - loss: 661298.8339 - val_loss: 430420.6875\n",
      "Epoch 29/100\n",
      "158/158 [==============================] - 0s 139us/sample - loss: 829813.0071 - val_loss: 437799.5781\n",
      "Epoch 30/100\n",
      "158/158 [==============================] - 0s 123us/sample - loss: 751551.8972 - val_loss: 640319.9688\n",
      "Epoch 31/100\n",
      "158/158 [==============================] - 0s 121us/sample - loss: 748295.0348 - val_loss: 453527.2969\n",
      "Epoch 32/100\n",
      "158/158 [==============================] - 0s 115us/sample - loss: 757589.5787 - val_loss: 492231.2188\n",
      "Epoch 33/100\n",
      "158/158 [==============================] - 0s 134us/sample - loss: 713615.4209 - val_loss: 391952.5000\n",
      "Epoch 34/100\n",
      "158/158 [==============================] - 0s 128us/sample - loss: 563049.0024 - val_loss: 436974.1719\n",
      "Epoch 35/100\n",
      "158/158 [==============================] - 0s 135us/sample - loss: 878788.2579 - val_loss: 390414.2969\n",
      "Epoch 36/100\n",
      "158/158 [==============================] - 0s 117us/sample - loss: 697373.0949 - val_loss: 382427.1250\n",
      "Epoch 37/100\n",
      "158/158 [==============================] - 0s 111us/sample - loss: 739001.9114 - val_loss: 329436.5781\n",
      "Epoch 38/100\n",
      "158/158 [==============================] - 0s 149us/sample - loss: 468756.0376 - val_loss: 479680.0000\n",
      "Epoch 39/100\n",
      "158/158 [==============================] - 0s 171us/sample - loss: 876662.5862 - val_loss: 300228.9844\n",
      "Epoch 40/100\n",
      "158/158 [==============================] - 0s 111us/sample - loss: 499840.3501 - val_loss: 437338.7812\n",
      "Epoch 41/100\n",
      "158/158 [==============================] - 0s 139us/sample - loss: 477166.0487 - val_loss: 342400.5000\n",
      "Epoch 42/100\n",
      "158/158 [==============================] - 0s 145us/sample - loss: 533552.1416 - val_loss: 473743.5156\n",
      "Epoch 43/100\n",
      "158/158 [==============================] - 0s 114us/sample - loss: 638039.0071 - val_loss: 264148.9297\n",
      "Epoch 44/100\n",
      "158/158 [==============================] - 0s 158us/sample - loss: 659027.7128 - val_loss: 507221.0469\n",
      "Epoch 45/100\n",
      "158/158 [==============================] - 0s 123us/sample - loss: 714214.0585 - val_loss: 125023.5859\n",
      "Epoch 46/100\n",
      "158/158 [==============================] - 0s 157us/sample - loss: 838067.1076 - val_loss: 630942.9062\n",
      "Epoch 47/100\n",
      "158/158 [==============================] - 0s 135us/sample - loss: 760642.7405 - val_loss: 308642.0156\n",
      "Epoch 48/100\n",
      "158/158 [==============================] - 0s 129us/sample - loss: 898521.6266 - val_loss: 691616.5312\n",
      "Epoch 49/100\n",
      "158/158 [==============================] - 0s 127us/sample - loss: 754166.5957 - val_loss: 202585.0391\n",
      "Epoch 50/100\n",
      "158/158 [==============================] - 0s 128us/sample - loss: 588900.4082 - val_loss: 779557.7500\n",
      "Epoch 51/100\n",
      "158/158 [==============================] - 0s 117us/sample - loss: 785299.9047 - val_loss: 258260.5000\n",
      "Epoch 52/100\n",
      "158/158 [==============================] - 0s 123us/sample - loss: 611184.9509 - val_loss: 389208.5938\n",
      "Epoch 53/100\n",
      "158/158 [==============================] - 0s 120us/sample - loss: 789014.6416 - val_loss: 248361.3750\n",
      "Epoch 54/100\n",
      "158/158 [==============================] - 0s 132us/sample - loss: 478547.3358 - val_loss: 275857.5781\n",
      "Epoch 55/100\n",
      "158/158 [==============================] - 0s 123us/sample - loss: 507488.4968 - val_loss: 291903.6719\n",
      "Epoch 56/100\n",
      "158/158 [==============================] - 0s 126us/sample - loss: 635688.0055 - val_loss: 290992.4531\n",
      "Epoch 57/100\n",
      "158/158 [==============================] - 0s 98us/sample - loss: 381074.8865 - val_loss: 252853.6953\n",
      "Epoch 58/100\n",
      "158/158 [==============================] - 0s 115us/sample - loss: 433057.0218 - val_loss: 227857.0078\n",
      "Epoch 59/100\n",
      "158/158 [==============================] - 0s 128us/sample - loss: 889447.1677 - val_loss: 535037.8438\n",
      "Epoch 60/100\n",
      "158/158 [==============================] - 0s 109us/sample - loss: 678035.8956 - val_loss: 189565.5938\n",
      "Epoch 61/100\n",
      "158/158 [==============================] - 0s 110us/sample - loss: 748670.2959 - val_loss: 686538.7031\n",
      "Epoch 62/100\n",
      "158/158 [==============================] - 0s 137us/sample - loss: 574487.5400 - val_loss: 37072.2598\n",
      "Epoch 63/100\n",
      "158/158 [==============================] - 0s 102us/sample - loss: 629679.0443 - val_loss: 813758.6562\n",
      "Epoch 64/100\n",
      "158/158 [==============================] - 0s 114us/sample - loss: 753731.2069 - val_loss: 103086.9961\n",
      "Epoch 65/100\n",
      "158/158 [==============================] - 0s 155us/sample - loss: 494625.9462 - val_loss: 365018.6875\n",
      "Epoch 66/100\n",
      "158/158 [==============================] - 0s 106us/sample - loss: 554271.7987 - val_loss: 85611.8945\n",
      "Epoch 67/100\n",
      "158/158 [==============================] - 0s 135us/sample - loss: 834083.7935 - val_loss: 351745.1719\n",
      "Epoch 68/100\n",
      "158/158 [==============================] - 0s 144us/sample - loss: 567651.4604 - val_loss: 115233.4805\n",
      "Epoch 69/100\n",
      "158/158 [==============================] - 0s 137us/sample - loss: 429298.4751 - val_loss: 317405.4062\n",
      "Epoch 70/100\n",
      "158/158 [==============================] - 0s 152us/sample - loss: 466414.6137 - val_loss: 81970.4414\n",
      "Epoch 71/100\n",
      "158/158 [==============================] - 0s 167us/sample - loss: 406169.1001 - val_loss: 101984.1992\n",
      "Epoch 72/100\n",
      "158/158 [==============================] - 0s 105us/sample - loss: 428471.7100 - val_loss: 233296.6250\n",
      "Epoch 73/100\n",
      "158/158 [==============================] - 0s 103us/sample - loss: 477727.5249 - val_loss: 115617.0742\n",
      "Epoch 74/100\n",
      "158/158 [==============================] - 0s 111us/sample - loss: 475250.9889 - val_loss: 125245.0820\n",
      "Epoch 75/100\n",
      "158/158 [==============================] - 0s 107us/sample - loss: 314281.0018 - val_loss: 54634.0137\n",
      "Epoch 76/100\n",
      "158/158 [==============================] - 0s 114us/sample - loss: 639414.0245 - val_loss: 330896.8438\n",
      "Epoch 77/100\n",
      "158/158 [==============================] - 0s 103us/sample - loss: 502367.8633 - val_loss: 122677.3906\n",
      "Epoch 78/100\n",
      "158/158 [==============================] - 0s 107us/sample - loss: 368155.7164 - val_loss: 66850.4180\n",
      "Epoch 79/100\n",
      "158/158 [==============================] - 0s 116us/sample - loss: 597634.9767 - val_loss: 221141.6016\n",
      "Epoch 80/100\n",
      "158/158 [==============================] - 0s 115us/sample - loss: 314945.7261 - val_loss: 126145.3828\n",
      "Epoch 81/100\n",
      "158/158 [==============================] - 0s 110us/sample - loss: 385715.1570 - val_loss: 163928.5391\n",
      "Epoch 82/100\n",
      "158/158 [==============================] - 0s 85us/sample - loss: 490045.6638 - val_loss: 240951.6328\n",
      "Epoch 83/100\n",
      "158/158 [==============================] - 0s 106us/sample - loss: 587870.5467 - val_loss: 71310.2344\n",
      "Epoch 84/100\n",
      "158/158 [==============================] - 0s 106us/sample - loss: 527641.9593 - val_loss: 162589.6797\n",
      "Epoch 85/100\n",
      "158/158 [==============================] - 0s 106us/sample - loss: 418211.4782 - val_loss: 325392.2969\n",
      "Epoch 86/100\n",
      "158/158 [==============================] - 0s 100us/sample - loss: 440593.2290 - val_loss: 106255.6992\n",
      "Epoch 87/100\n",
      "158/158 [==============================] - 0s 197us/sample - loss: 581092.5593 - val_loss: 621789.3750\n",
      "Epoch 88/100\n",
      "158/158 [==============================] - 0s 96us/sample - loss: 436738.0028 - val_loss: 31333.5645\n",
      "Epoch 89/100\n",
      "158/158 [==============================] - 0s 147us/sample - loss: 517993.4604 - val_loss: 251182.2109\n",
      "Epoch 90/100\n",
      "158/158 [==============================] - 0s 113us/sample - loss: 477225.3153 - val_loss: 272219.2109\n",
      "Epoch 91/100\n",
      "158/158 [==============================] - 0s 122us/sample - loss: 478656.2868 - val_loss: 112566.3438\n",
      "Epoch 92/100\n",
      "158/158 [==============================] - 0s 105us/sample - loss: 372566.6094 - val_loss: 210439.2578\n",
      "Epoch 93/100\n",
      "158/158 [==============================] - 0s 110us/sample - loss: 387261.3248 - val_loss: 217088.9297\n",
      "Epoch 94/100\n",
      "158/158 [==============================] - 0s 126us/sample - loss: 433135.7816 - val_loss: 201628.6016\n",
      "Epoch 95/100\n",
      "158/158 [==============================] - 0s 116us/sample - loss: 443474.3204 - val_loss: 139664.2344\n",
      "Epoch 96/100\n",
      "158/158 [==============================] - 0s 109us/sample - loss: 352124.8592 - val_loss: 161285.8359\n",
      "Epoch 97/100\n",
      "158/158 [==============================] - 0s 132us/sample - loss: 305259.5870 - val_loss: 338981.0781\n",
      "Epoch 98/100\n",
      "158/158 [==============================] - 0s 132us/sample - loss: 423696.5576 - val_loss: 113576.3945\n",
      "Epoch 99/100\n",
      "158/158 [==============================] - 0s 119us/sample - loss: 324238.6543 - val_loss: 40905.2461\n",
      "Epoch 100/100\n",
      "158/158 [==============================] - 0s 105us/sample - loss: 339737.9333 - val_loss: 225002.1484\n"
     ]
    }
   ],
   "source": [
    "epochs_hist = ANN_model.fit(x_train, Y_train, epochs = 100, batch_size = 20, validation_split = 0.2)"
   ]
  },
  {
   "cell_type": "code",
   "execution_count": null,
   "metadata": {
    "id": "LHAu_icFULQn",
    "outputId": "4f0aee96-39ed-4115-ba73-8a1e5360472d"
   },
   "outputs": [
    {
     "name": "stdout",
     "output_type": "stream",
     "text": [
      "Accuracy : -315087.4205357143\n"
     ]
    }
   ],
   "source": [
    "result = ANN_model.evaluate(x_test, Y_test)\n",
    "accuracy_ANN = 1 - result\n",
    "print(\"Accuracy : {}\".format(accuracy_ANN))"
   ]
  },
  {
   "cell_type": "code",
   "execution_count": null,
   "metadata": {
    "colab": {
     "base_uri": "https://localhost:8080/"
    },
    "id": "TiQSq3M4g06o",
    "outputId": "cbc5c3b2-3270-470a-adcd-c4c9289a91c3"
   },
   "outputs": [
    {
     "data": {
      "text/plain": [
       "720"
      ]
     },
     "execution_count": 1,
     "metadata": {
      "tags": []
     },
     "output_type": "execute_result"
    }
   ],
   "source": [
    "#Testing the scipy library by calculating the permutation of some numbers\n",
    "from scipy.special import perm\n",
    "\n",
    "p = perm(10,3, exact=True)\n",
    "p"
   ]
  },
  {
   "cell_type": "code",
   "execution_count": null,
   "metadata": {
    "colab": {
     "base_uri": "https://localhost:8080/"
    },
    "id": "dZ4UY8oRha_N",
    "outputId": "1c79e93c-caec-43e2-b3b4-a219a45c1d06"
   },
   "outputs": [
    {
     "data": {
      "text/plain": [
       "-207.0000000000001"
      ]
     },
     "execution_count": 1,
     "metadata": {
      "tags": []
     },
     "output_type": "execute_result"
    }
   ],
   "source": [
    "#Testing the scipy lubrary by calculating the determinant of a two dimensional array\n",
    "from scipy import linalg\n",
    "import numpy as np\n",
    "\n",
    "array = np.array([ [4,2,7], [0,3,9],[45,6,12] ])\n",
    "#using the det() function from the scipy library to calculate the determinant\n",
    "linalg.det(array)"
   ]
  },
  {
   "cell_type": "code",
   "execution_count": null,
   "metadata": {
    "id": "e3r8XgWniyZ7"
   },
   "outputs": [],
   "source": []
  }
 ],
 "metadata": {
  "colab": {
   "collapsed_sections": [],
   "name": "Group 1 C1 Artificial Intelligence Assignments 1.ipynb",
   "provenance": []
  },
  "kernelspec": {
   "display_name": "Python 3",
   "language": "python",
   "name": "python3"
  },
  "language_info": {
   "codemirror_mode": {
    "name": "ipython",
    "version": 3
   },
   "file_extension": ".py",
   "mimetype": "text/x-python",
   "name": "python",
   "nbconvert_exporter": "python",
   "pygments_lexer": "ipython3",
   "version": "3.8.5"
  }
 },
 "nbformat": 4,
 "nbformat_minor": 1
}
